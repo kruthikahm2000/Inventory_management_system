{
  "nbformat": 4,
  "nbformat_minor": 0,
  "metadata": {
    "colab": {
      "name": "Untitled0.ipynb",
      "provenance": []
    },
    "kernelspec": {
      "name": "python3",
      "display_name": "Python 3"
    },
    "language_info": {
      "name": "python"
    }
  },
  "cells": [
    {
      "cell_type": "code",
      "metadata": {
        "id": "zU7IT5T-nFBz"
      },
      "source": [
        "record = { 1001 : {\"Product_name\" :\"Kitkat\" , \"Category\" :\"Chocolate\" ,   \"Price\":10 , \"Quantity\":50 , \"Pno\":1234},\n",
        "           1002 : {\"Product_name\" :\"Masa\"  ,  \"Category\" :\"Cold drinks\" , \"Price\":35 , \"Quantity\":30 , \"Pno\":2345},\n",
        "           1003 : {\"Product_name\" :\"Vivel\" ,  \"Category\" :\"Bath soap\" ,   \"Price\":50 , \"Quantity\":70 , \"Pno\":3456},\n",
        "\t   1004 : {\"Product_name\" :\"Ponds\" ,  \"Category\" :\"Lotion\" ,      \"Price\":25 , \"Quantity\":20 , \"Pno\":2134},\n",
        "           1005 : {\"Product_name\" :\"Himalaya\",  \"Category\" :\"Face Wash\" , \"Price\":60 , \"Quantity\":30 , \"Pno\":2115},\n",
        "           1006 : {\"Product_name\" :\"Dove\" ,  \"Category\" :\"Bath soap\" ,   \"Price\":20 , \"Quantity\":90 , \"Pno\":3256},\n",
        "\t   1007 : {\"Product_name\" :\"Perk\" , \"Category\" :\"Chocolate\" ,   \"Price\":20 , \"Quantity\":50 , \"Pno\":5234},\n",
        "           1008 : {\"Product_name\" :\"Slice\"  ,  \"Category\" :\"Cold drinks\" , \"Price\":22 , \"Quantity\":10 , \"Pno\":1345},\n",
        "           1009 : {\"Product_name\" :\"Rice\" ,  \"Category\" :\"Grocery\" ,   \"Price\":50 , \"Quantity\":40 , \"Pno\":3356},\n",
        "\t   1010 : {\"Product_name\" :\"Nivea\" , \"Category\" :\"Face Cream\" ,   \"Price\":90 , \"Quantity\":50 , \"Pno\":1234},\n",
        "           1011 : {\"Product_name\" :\"Garnieer\"  ,  \"Category\" :\"Hair Gel\" , \"Price\":22 , \"Quantity\":30 , \"Pno\":4345},\n",
        "           1012 : {\"Product_name\" :\"Fog\" ,  \"Category\" :\"Body Spray\" ,   \"Price\":80 , \"Quantity\":20 , \"Pno\":4456},\n",
        "\t   1013 : {\"Product_name\" :\"Dal\" , \"Category\" :\"Grocery\" ,   \"Price\":40 , \"Quantity\":60 , \"Pno\":9934},\n",
        "           1014 : {\"Product_name\" :\"Sugar\"  ,  \"Category\" :\"Grocery\" , \"Price\":35 , \"Quantity\":30 , \"Pno\":2345},\n",
        "           1015 : {\"Product_name\" :\"Santoor\" ,  \"Category\" :\"Bath soap\" ,   \"Price\":50 , \"Quantity\":70 , \"Pno\":3456},\n",
        "\t   1016 : {\"Product_name\" :\"Munch\" , \"Category\" :\"Chocolate\" ,   \"Price\":10 , \"Quantity\":50 , \"Pno\":1234},\n",
        "           1017 : {\"Product_name\" :\"Sprite\"  ,  \"Category\" :\"Cold drinks\" , \"Price\":35 , \"Quantity\":30 , \"Pno\":2345},\n",
        "           1018 : {\"Product_name\" :\"RedLabel\" ,  \"Category\" :\"Tea\" ,   \"Price\":50 , \"Quantity\":70 , \"Pno\":3456},\n",
        "           1019 : {\"Product_name\" :\"Tata\" , \"Category\" :\"Tea\" ,   \"Price\":10 , \"Quantity\":50 , \"Pno\":1234},\n",
        "           1020 : {\"Product_name\" :\"Sunpure\"  ,  \"Category\" :\"Oil\" , \"Price\":35 , \"Quantity\":30 , \"Pno\":2345},\n",
        "           1021 : {\"Product_name\" :\"PalmOil\" ,  \"Category\" :\"Oil\" ,   \"Price\":50 , \"Quantity\":70 , \"Pno\":3456},\n",
        "\t   1022 : {\"Product_name\" :\"Tumeric\" , \"Category\" :\"Grocery\" ,   \"Price\":10 , \"Quantity\":50 , \"Pno\":1234},\n",
        "           1023 : {\"Product_name\" :\"H&M\"  ,  \"Category\" :\"Body Spray\" , \"Price\":35 , \"Quantity\":30 , \"Pno\":2345},\n",
        "           1024 : {\"Product_name\" :\"Medimix\" ,  \"Category\" :\"Bath soap\" ,   \"Price\":50 , \"Quantity\":70 , \"Pno\":3456},\n",
        "\t   1025 : {\"Product_name\" :\"KrackJack\" , \"Category\" :\"Biscuit\" ,   \"Price\":10 , \"Quantity\":50 , \"Pno\":1234},\n",
        "           1026 : {\"Product_name\" :\"Pepsico\"  ,  \"Category\" :\"Cold drinks\" , \"Price\":35 , \"Quantity\":30 , \"Pno\":2345},\n",
        "           1027 : {\"Product_name\" :\"Salt\" ,  \"Category\" :\"Grocery\" ,   \"Price\":50 , \"Quantity\":70 , \"Pno\":3456},\n",
        "\t   1028 : {\"Product_name\" :\"MarieGold\" , \"Category\" :\"Biscuit\" ,   \"Price\":10 , \"Quantity\":50 , \"Pno\":1234},\n",
        "           1029 : {\"Product_name\" :\"CloseUp\"  ,  \"Category\" :\"Toothpaste\" , \"Price\":35 , \"Quantity\":30 , \"Pno\":2345},\n",
        "           1030 : {\"Product_name\" :\"Colgate\" ,  \"Category\" :\"Toothpaste\" ,   \"Price\":50 , \"Quantity\":70 , \"Pno\":3456}}"
      ],
      "execution_count": 11,
      "outputs": []
    },
    {
      "cell_type": "code",
      "metadata": {
        "id": "uE3XmiWlrAzn"
      },
      "source": [
        "record[1001]['Pno']=9999"
      ],
      "execution_count": 17,
      "outputs": []
    },
    {
      "cell_type": "code",
      "metadata": {
        "id": "HgLilpzGrA5V",
        "colab": {
          "base_uri": "https://localhost:8080/",
          "height": 191
        },
        "outputId": "5a31dcbe-229a-4bbb-f879-e0ada9efc667"
      },
      "source": [
        "import json\n",
        "js = json.dumps(record)\n",
        "js"
      ],
      "execution_count": 23,
      "outputs": [
        {
          "output_type": "execute_result",
          "data": {
            "application/vnd.google.colaboratory.intrinsic+json": {
              "type": "string"
            },
            "text/plain": [
              "'{\"1001\": {\"Product_name\": \"Kitkat\", \"Category\": \"Chocolate\", \"Price\": 10, \"Quantity\": 50, \"Pno\": 9999}, \"1002\": {\"Product_name\": \"Masa\", \"Category\": \"Cold drinks\", \"Price\": 35, \"Quantity\": 30, \"Pno\": 2345}, \"1003\": {\"Product_name\": \"Vivel\", \"Category\": \"Bath soap\", \"Price\": 50, \"Quantity\": 70, \"Pno\": 3456}, \"1004\": {\"Product_name\": \"Ponds\", \"Category\": \"Lotion\", \"Price\": 25, \"Quantity\": 20, \"Pno\": 2134}, \"1005\": {\"Product_name\": \"Himalaya\", \"Category\": \"Face Wash\", \"Price\": 60, \"Quantity\": 30, \"Pno\": 2115}, \"1006\": {\"Product_name\": \"Dove\", \"Category\": \"Bath soap\", \"Price\": 20, \"Quantity\": 90, \"Pno\": 3256}, \"1007\": {\"Product_name\": \"Perk\", \"Category\": \"Chocolate\", \"Price\": 20, \"Quantity\": 50, \"Pno\": 5234}, \"1008\": {\"Product_name\": \"Slice\", \"Category\": \"Cold drinks\", \"Price\": 22, \"Quantity\": 10, \"Pno\": 1345}, \"1009\": {\"Product_name\": \"Rice\", \"Category\": \"Grocery\", \"Price\": 50, \"Quantity\": 40, \"Pno\": 3356}, \"1010\": {\"Product_name\": \"Nivea\", \"Category\": \"Face Cream\", \"Price\": 90, \"Quantity\": 50, \"Pno\": 1234}, \"1011\": {\"Product_name\": \"Garnieer\", \"Category\": \"Hair Gel\", \"Price\": 22, \"Quantity\": 30, \"Pno\": 4345}, \"1012\": {\"Product_name\": \"Fog\", \"Category\": \"Body Spray\", \"Price\": 80, \"Quantity\": 20, \"Pno\": 4456}, \"1013\": {\"Product_name\": \"Dal\", \"Category\": \"Grocery\", \"Price\": 40, \"Quantity\": 60, \"Pno\": 9934}, \"1014\": {\"Product_name\": \"Sugar\", \"Category\": \"Grocery\", \"Price\": 35, \"Quantity\": 30, \"Pno\": 2345}, \"1015\": {\"Product_name\": \"Santoor\", \"Category\": \"Bath soap\", \"Price\": 50, \"Quantity\": 70, \"Pno\": 3456}, \"1016\": {\"Product_name\": \"Munch\", \"Category\": \"Chocolate\", \"Price\": 10, \"Quantity\": 50, \"Pno\": 1234}, \"1017\": {\"Product_name\": \"Sprite\", \"Category\": \"Cold drinks\", \"Price\": 35, \"Quantity\": 30, \"Pno\": 2345}, \"1018\": {\"Product_name\": \"RedLabel\", \"Category\": \"Tea\", \"Price\": 50, \"Quantity\": 70, \"Pno\": 3456}, \"1019\": {\"Product_name\": \"Tata\", \"Category\": \"Tea\", \"Price\": 10, \"Quantity\": 50, \"Pno\": 1234}, \"1020\": {\"Product_name\": \"Sunpure\", \"Category\": \"Oil\", \"Price\": 35, \"Quantity\": 30, \"Pno\": 2345}, \"1021\": {\"Product_name\": \"PalmOil\", \"Category\": \"Oil\", \"Price\": 50, \"Quantity\": 70, \"Pno\": 3456}, \"1022\": {\"Product_name\": \"Tumeric\", \"Category\": \"Grocery\", \"Price\": 10, \"Quantity\": 50, \"Pno\": 1234}, \"1023\": {\"Product_name\": \"H&M\", \"Category\": \"Body Spray\", \"Price\": 35, \"Quantity\": 30, \"Pno\": 2345}, \"1024\": {\"Product_name\": \"Medimix\", \"Category\": \"Bath soap\", \"Price\": 50, \"Quantity\": 70, \"Pno\": 3456}, \"1025\": {\"Product_name\": \"KrackJack\", \"Category\": \"Biscuit\", \"Price\": 10, \"Quantity\": 50, \"Pno\": 1234}, \"1026\": {\"Product_name\": \"Pepsico\", \"Category\": \"Cold drinks\", \"Price\": 35, \"Quantity\": 30, \"Pno\": 2345}, \"1027\": {\"Product_name\": \"Salt\", \"Category\": \"Grocery\", \"Price\": 50, \"Quantity\": 70, \"Pno\": 3456}, \"1028\": {\"Product_name\": \"MarieGold\", \"Category\": \"Biscuit\", \"Price\": 10, \"Quantity\": 50, \"Pno\": 1234}, \"1029\": {\"Product_name\": \"CloseUp\", \"Category\": \"Toothpaste\", \"Price\": 35, \"Quantity\": 30, \"Pno\": 2345}, \"1030\": {\"Product_name\": \"Colgate\", \"Category\": \"Toothpaste\", \"Price\": 50, \"Quantity\": 70, \"Pno\": 3456}}'"
            ]
          },
          "metadata": {},
          "execution_count": 23
        }
      ]
    },
    {
      "cell_type": "code",
      "metadata": {
        "id": "apCGSAXqrA83"
      },
      "source": [
        "fd = open(\"record.json\", 'w')\n",
        "fd.write(js)\n",
        "fd.close()"
      ],
      "execution_count": 29,
      "outputs": []
    },
    {
      "cell_type": "code",
      "metadata": {
        "id": "gUPpE-SO9MN_"
      },
      "source": [
        "fd = open(\"record.json\", 'r')\n",
        "txt = fd.read()\n",
        "fd.close()"
      ],
      "execution_count": 31,
      "outputs": []
    },
    {
      "cell_type": "code",
      "metadata": {
        "colab": {
          "base_uri": "https://localhost:8080/",
          "height": 191
        },
        "id": "dtc34LuL9X6L",
        "outputId": "9d709f09-cccf-4074-eab7-a811cd3982c5"
      },
      "source": [
        "txt"
      ],
      "execution_count": 32,
      "outputs": [
        {
          "output_type": "execute_result",
          "data": {
            "application/vnd.google.colaboratory.intrinsic+json": {
              "type": "string"
            },
            "text/plain": [
              "'{\"1001\": {\"Product_name\": \"Kitkat\", \"Category\": \"Chocolate\", \"Price\": 10, \"Quantity\": 50, \"Pno\": 9999}, \"1002\": {\"Product_name\": \"Masa\", \"Category\": \"Cold drinks\", \"Price\": 35, \"Quantity\": 30, \"Pno\": 2345}, \"1003\": {\"Product_name\": \"Vivel\", \"Category\": \"Bath soap\", \"Price\": 50, \"Quantity\": 70, \"Pno\": 3456}, \"1004\": {\"Product_name\": \"Ponds\", \"Category\": \"Lotion\", \"Price\": 25, \"Quantity\": 20, \"Pno\": 2134}, \"1005\": {\"Product_name\": \"Himalaya\", \"Category\": \"Face Wash\", \"Price\": 60, \"Quantity\": 30, \"Pno\": 2115}, \"1006\": {\"Product_name\": \"Dove\", \"Category\": \"Bath soap\", \"Price\": 20, \"Quantity\": 90, \"Pno\": 3256}, \"1007\": {\"Product_name\": \"Perk\", \"Category\": \"Chocolate\", \"Price\": 20, \"Quantity\": 50, \"Pno\": 5234}, \"1008\": {\"Product_name\": \"Slice\", \"Category\": \"Cold drinks\", \"Price\": 22, \"Quantity\": 10, \"Pno\": 1345}, \"1009\": {\"Product_name\": \"Rice\", \"Category\": \"Grocery\", \"Price\": 50, \"Quantity\": 40, \"Pno\": 3356}, \"1010\": {\"Product_name\": \"Nivea\", \"Category\": \"Face Cream\", \"Price\": 90, \"Quantity\": 50, \"Pno\": 1234}, \"1011\": {\"Product_name\": \"Garnieer\", \"Category\": \"Hair Gel\", \"Price\": 22, \"Quantity\": 30, \"Pno\": 4345}, \"1012\": {\"Product_name\": \"Fog\", \"Category\": \"Body Spray\", \"Price\": 80, \"Quantity\": 20, \"Pno\": 4456}, \"1013\": {\"Product_name\": \"Dal\", \"Category\": \"Grocery\", \"Price\": 40, \"Quantity\": 60, \"Pno\": 9934}, \"1014\": {\"Product_name\": \"Sugar\", \"Category\": \"Grocery\", \"Price\": 35, \"Quantity\": 30, \"Pno\": 2345}, \"1015\": {\"Product_name\": \"Santoor\", \"Category\": \"Bath soap\", \"Price\": 50, \"Quantity\": 70, \"Pno\": 3456}, \"1016\": {\"Product_name\": \"Munch\", \"Category\": \"Chocolate\", \"Price\": 10, \"Quantity\": 50, \"Pno\": 1234}, \"1017\": {\"Product_name\": \"Sprite\", \"Category\": \"Cold drinks\", \"Price\": 35, \"Quantity\": 30, \"Pno\": 2345}, \"1018\": {\"Product_name\": \"RedLabel\", \"Category\": \"Tea\", \"Price\": 50, \"Quantity\": 70, \"Pno\": 3456}, \"1019\": {\"Product_name\": \"Tata\", \"Category\": \"Tea\", \"Price\": 10, \"Quantity\": 50, \"Pno\": 1234}, \"1020\": {\"Product_name\": \"Sunpure\", \"Category\": \"Oil\", \"Price\": 35, \"Quantity\": 30, \"Pno\": 2345}, \"1021\": {\"Product_name\": \"PalmOil\", \"Category\": \"Oil\", \"Price\": 50, \"Quantity\": 70, \"Pno\": 3456}, \"1022\": {\"Product_name\": \"Tumeric\", \"Category\": \"Grocery\", \"Price\": 10, \"Quantity\": 50, \"Pno\": 1234}, \"1023\": {\"Product_name\": \"H&M\", \"Category\": \"Body Spray\", \"Price\": 35, \"Quantity\": 30, \"Pno\": 2345}, \"1024\": {\"Product_name\": \"Medimix\", \"Category\": \"Bath soap\", \"Price\": 50, \"Quantity\": 70, \"Pno\": 3456}, \"1025\": {\"Product_name\": \"KrackJack\", \"Category\": \"Biscuit\", \"Price\": 10, \"Quantity\": 50, \"Pno\": 1234}, \"1026\": {\"Product_name\": \"Pepsico\", \"Category\": \"Cold drinks\", \"Price\": 35, \"Quantity\": 30, \"Pno\": 2345}, \"1027\": {\"Product_name\": \"Salt\", \"Category\": \"Grocery\", \"Price\": 50, \"Quantity\": 70, \"Pno\": 3456}, \"1028\": {\"Product_name\": \"MarieGold\", \"Category\": \"Biscuit\", \"Price\": 10, \"Quantity\": 50, \"Pno\": 1234}, \"1029\": {\"Product_name\": \"CloseUp\", \"Category\": \"Toothpaste\", \"Price\": 35, \"Quantity\": 30, \"Pno\": 2345}, \"1030\": {\"Product_name\": \"Colgate\", \"Category\": \"Toothpaste\", \"Price\": 50, \"Quantity\": 70, \"Pno\": 3456}}'"
            ]
          },
          "metadata": {},
          "execution_count": 32
        }
      ]
    },
    {
      "cell_type": "code",
      "metadata": {
        "id": "8lW9Dn-f9jZD"
      },
      "source": [
        "record=json.loads(txt)"
      ],
      "execution_count": 33,
      "outputs": []
    },
    {
      "cell_type": "code",
      "metadata": {
        "colab": {
          "base_uri": "https://localhost:8080/"
        },
        "id": "yeidjt869xs3",
        "outputId": "3c3d797e-d5a6-4357-da0a-5d72af7db672"
      },
      "source": [
        "record['1001']"
      ],
      "execution_count": 34,
      "outputs": [
        {
          "output_type": "execute_result",
          "data": {
            "text/plain": [
              "{'Category': 'Chocolate',\n",
              " 'Pno': 9999,\n",
              " 'Price': 10,\n",
              " 'Product_name': 'Kitkat',\n",
              " 'Quantity': 50}"
            ]
          },
          "metadata": {},
          "execution_count": 34
        }
      ]
    },
    {
      "cell_type": "code",
      "metadata": {
        "id": "Bscu_fxh92Kr"
      },
      "source": [
        "import time"
      ],
      "execution_count": 35,
      "outputs": []
    },
    {
      "cell_type": "code",
      "metadata": {
        "colab": {
          "base_uri": "https://localhost:8080/",
          "height": 35
        },
        "id": "GELyX12-96Im",
        "outputId": "f18ae269-2cef-4564-e905-934cf5f8f920"
      },
      "source": [
        "time.ctime()"
      ],
      "execution_count": 36,
      "outputs": [
        {
          "output_type": "execute_result",
          "data": {
            "application/vnd.google.colaboratory.intrinsic+json": {
              "type": "string"
            },
            "text/plain": [
              "'Fri Sep  3 14:02:27 2021'"
            ]
          },
          "metadata": {},
          "execution_count": 36
        }
      ]
    }
  ]
}